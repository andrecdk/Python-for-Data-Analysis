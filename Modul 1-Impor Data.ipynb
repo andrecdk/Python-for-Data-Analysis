{
 "cells": [
  {
   "cell_type": "markdown",
   "metadata": {},
   "source": [
    "# **Modul 1: Impor Data (*Import Data*)**"
   ]
  },
  {
   "cell_type": "markdown",
   "metadata": {},
   "source": [
    "## Langkah dalam pengecekan instalasi dari anaconda"
   ]
  },
  {
   "cell_type": "markdown",
   "metadata": {},
   "source": [
    "Langkah pengecekan ini diterapkan untuk pengguna yang menggunakan VS Code dan sudah menginstall anaconda sebelumnya.\n",
    "1. Menerapkan kernel <code>anaconda3</code>\n",
    "2. Melalui <code>conda list</code> melalui terminal ataupun jupyter notebook seperti dibawah ini"
   ]
  },
  {
   "cell_type": "code",
   "execution_count": null,
   "metadata": {},
   "outputs": [],
   "source": [
    "!conda list"
   ]
  },
  {
   "cell_type": "markdown",
   "metadata": {},
   "source": [
    "2. Melalui <code>!conda info</code> pada jupyter notebook atau menggunakan terminal menggunakan <code>!conda info </code>"
   ]
  },
  {
   "cell_type": "code",
   "execution_count": null,
   "metadata": {},
   "outputs": [],
   "source": [
    "!conda info"
   ]
  },
  {
   "cell_type": "markdown",
   "metadata": {},
   "source": [
    "3. Mengupdate paket instalasi dari anaconda menggunakan perintah <code>!conda update --all</code> \n",
    "\n",
    "    * Menggunakan terminal dengan mengaplikasikannya menggunakan kernel anaconda3 melalui perintah <code>conda update --all</code> \n",
    "\n",
    "    * atau menggunakan <code>pip install --upgrade <package_name></code> pada terminal."
   ]
  },
  {
   "cell_type": "markdown",
   "metadata": {},
   "source": [
    "## **1. Impor Data dari file <code>Excel</code> ke DataFrame**"
   ]
  },
  {
   "cell_type": "markdown",
   "metadata": {},
   "source": [
    "Mengecek lokasi dari file menggunakan <code>import os</code>"
   ]
  },
  {
   "cell_type": "code",
   "execution_count": null,
   "metadata": {},
   "outputs": [],
   "source": [
    "import os\n",
    "os.getcwd()"
   ]
  },
  {
   "cell_type": "markdown",
   "metadata": {},
   "source": [
    "Mengimpor pandas dari library"
   ]
  },
  {
   "cell_type": "code",
   "execution_count": null,
   "metadata": {},
   "outputs": [],
   "source": [
    "Import pandas as pd"
   ]
  },
  {
   "cell_type": "markdown",
   "metadata": {},
   "source": [
    "Import data dari file <code>.xlxs</code> menggunakan <code>pandas data frame</code>. \n",
    "\n",
    "><code>df_excel = pd.read_excel('nama file.xlxs', sheet_name='nama_sheet',header=0)</code>"
   ]
  },
  {
   "cell_type": "code",
   "execution_count": null,
   "metadata": {},
   "outputs": [],
   "source": [
    "df_excel = pd.read_excel('nama file.xlxs', sheet_name='nama_sheet',header=0)"
   ]
  },
  {
   "cell_type": "markdown",
   "metadata": {},
   "source": [
    "<code>df_excel</code> merupakan variabel yang dibuat. sedangkan <code>pd.read_excel()</code> merupakan penjelasan dari definisi variabel yang telah dibuat\n",
    "\n",
    "Parameter header=0 mengartikan bahwa baris pertama (baris ke-0) dari sheet Excel akan digunakan sebagai header atau nama kolom untuk DataFrame yang dihasilkan.\n",
    "\n",
    "Jika tidak ada header dalam file Excel, Anda bisa menggunakan header=None untuk menghindari penggunaan baris pertama sebagai header.\n",
    "\n",
    "* <code>header=0</code> : baris pertama digunakan sebagai header.\n",
    "* <code>header=None</code> : tidak ada baris yang digunakan sebagai header dan kolom akan diberikan nama default (misalnya 0, 1, 2...)"
   ]
  },
  {
   "cell_type": "markdown",
   "metadata": {},
   "source": [
    "Berikut ini merupakan bentuk code sepenuhnya:"
   ]
  },
  {
   "cell_type": "code",
   "execution_count": null,
   "metadata": {},
   "outputs": [],
   "source": [
    "# Mengimpor library pandas\n",
    "import pandas as pd\n",
    "\n",
    "# Membaca Excel File\n",
    "df_excel = pd.read_excel('nama file.xlsx', sheet_name='nama sheet', header=0)\n",
    "\n",
    "# Menampilkan kolom awal pada DataFrame\n",
    "print(df_excel.head())"
   ]
  },
  {
   "cell_type": "markdown",
   "metadata": {},
   "source": [
    "## **2. Import Data dari file <code>CSV</code> ke DataFrame**"
   ]
  },
  {
   "cell_type": "markdown",
   "metadata": {},
   "source": [
    "Mengimpor data dari file <code>CSV</code> menggunakan: \n",
    "\n",
    "><code>df_csv = pd.read_csv('nama file.csv', header=0)</code>"
   ]
  },
  {
   "cell_type": "code",
   "execution_count": null,
   "metadata": {},
   "outputs": [],
   "source": [
    "df_csv = pd.read_csv('nama file.csv', header=0)"
   ]
  },
  {
   "cell_type": "markdown",
   "metadata": {},
   "source": [
    "Berikut ini merupakan bentuk kode sepenuhnya"
   ]
  },
  {
   "cell_type": "code",
   "execution_count": null,
   "metadata": {},
   "outputs": [],
   "source": [
    "# Mengimpor library pandas\n",
    "import pandas as pd\n",
    "\n",
    "# Membaca file csv\n",
    "df_csv = pd.read_csv('nama file.csv', header=0)"
   ]
  },
  {
   "cell_type": "markdown",
   "metadata": {},
   "source": [
    "## **3. Import Data dari file <code>Google Sheets</code> ke DataFrame**"
   ]
  },
  {
   "cell_type": "markdown",
   "metadata": {},
   "source": [
    "Langkah-langkah persiapan:\n",
    "1. Login ke Google Cloud Console (https://console.cloud.google.com/)\n",
    "2. Buat project (jika belum punya sebelumnya)\n",
    "3. Enable Google Drive API dan Google Sheets API di APIs and Services\n",
    "4. Buat service account, simpan/salin alamat email service account\n",
    "5. Buat credential key dan ekspor sebagai <code>JSON</code>\n",
    "6. Berikan akses edit ke email service account (poin 2) di file Google Sheets yang hendak di-import"
   ]
  },
  {
   "cell_type": "markdown",
   "metadata": {},
   "source": [
    ">Menginstal <code>gspread</code> pada terminal meenggunakan perintah <code>pip install gspread</code>.\n",
    ">\n",
    ">atau melalui perintah dibawah ini pada jupyter notebook\n",
    "<code>!pip install gspread</code>"
   ]
  },
  {
   "cell_type": "code",
   "execution_count": null,
   "metadata": {},
   "outputs": [],
   "source": [
    "pip install gspread"
   ]
  },
  {
   "cell_type": "markdown",
   "metadata": {},
   "source": [
    "## **4. Impor Data dari SQL Server**"
   ]
  },
  {
   "cell_type": "markdown",
   "metadata": {},
   "source": [
    "Langkah pertama adalah menginstall <code>pyodbc</code>.\n",
    ">* Menggunakan terminal <code>pip install pyodbc</code>\n",
    ">* Menggunakan jupyter notebook <code>!pip install pyodbc</code>\n",
    "\n",
    "Langkah selanjutnya adalah dengan mengimport <code>pyodbc</code>\n",
    "dan <code>pandas</code>"
   ]
  },
  {
   "cell_type": "code",
   "execution_count": null,
   "metadata": {},
   "outputs": [],
   "source": [
    "import pyodbc\n",
    "import pandas as pd"
   ]
  },
  {
   "cell_type": "markdown",
   "metadata": {},
   "source": [
    "Melanjutkan dengan mendefinisikan koneksi string. Mendefinisikan variabel untuk melakukan koneksi dengan menggunakan driver dengan server yang dibutuhkan, database yang tersedia pada server, UID pada sql server dan juga password dalam sql server."
   ]
  },
  {
   "cell_type": "code",
   "execution_count": null,
   "metadata": {},
   "outputs": [],
   "source": [
    "# Menjelaskan koneksi string\n",
    "conn_str = (\n",
    "    'DRIVER={ODBC Driver 17 for SQL Server};'\n",
    "    'SERVER=your_server_name;'\n",
    "    'DATABASE=your_database_name;'\n",
    "    'UID=your_username;'\n",
    "    'PWD=your_password'\n",
    ")"
   ]
  },
  {
   "cell_type": "markdown",
   "metadata": {},
   "source": [
    "Melanjutkan dengan menetapkan koneksi"
   ]
  },
  {
   "cell_type": "code",
   "execution_count": null,
   "metadata": {},
   "outputs": [],
   "source": [
    "# Menetapkan variabel koneksi\n",
    "conn = pyodbc.connect(conn_str)"
   ]
  },
  {
   "cell_type": "markdown",
   "metadata": {},
   "source": [
    "Mendefinisikan SQL kueri sebagai contoh seperti berikut"
   ]
  },
  {
   "cell_type": "code",
   "execution_count": null,
   "metadata": {},
   "outputs": [],
   "source": [
    "# Menetapkan variabel kueri SQL sebagai contoh seperti berikut\n",
    "query = 'SELECT * FROM your_table_name'"
   ]
  },
  {
   "cell_type": "markdown",
   "metadata": {},
   "source": [
    "Mengeksekusikan kueri dan membaca data kedalam DataFrame. \n",
    "\n",
    "Variabel <code>df_sql</code> merupakan variabel yang dibuat. Sedangkan <code>pd.read_sql()</code> merupakan penjelasan dari apa yang dilakukan oleh variabel tersebut"
   ]
  },
  {
   "cell_type": "code",
   "execution_count": null,
   "metadata": {},
   "outputs": [],
   "source": [
    "# Mengeksekusikan kueri yang telah dibuat untuk membaca dataframe dengan alias variabel sebagai df_sql\n",
    "df_sql = pd.read_sql(query, conn)"
   ]
  },
  {
   "cell_type": "markdown",
   "metadata": {},
   "source": [
    "Menampilkan dataframe dari tahap sebelumnya"
   ]
  },
  {
   "cell_type": "code",
   "execution_count": null,
   "metadata": {},
   "outputs": [],
   "source": [
    "# Menampilkan dataframe dari kueri SQL yang diterapkan pada SQL Server\n",
    "print(df_sql.head())"
   ]
  },
  {
   "cell_type": "markdown",
   "metadata": {},
   "source": [
    "Berikut ini merupakan bentuk code sepenuhnya"
   ]
  },
  {
   "cell_type": "code",
   "execution_count": null,
   "metadata": {},
   "outputs": [],
   "source": [
    "# Mengimpor library\n",
    "import pyodbc\n",
    "import pandas as pd\n",
    "\n",
    "# Membuat variabel koneksi string sebagai conn_str dan mendefinisikan variabel tersebut\n",
    "conn_str = (\n",
    "    'DRIVER={ODBC Driver 17 for SQL Server};'\n",
    "    'SERVER=your_server_name;'\n",
    "    'DATABASE=your_database_name;'\n",
    "    'UID=your_username;'\n",
    "    'PWD=your_password'\n",
    ")\n",
    "\n",
    "# Menetapkan variabel koneksi sebagai conn dan menjelaskan variabel menggunakan pyobdc.connection\n",
    "conn = pyodbc.connect(conn_str)\n",
    "\n",
    "# Membuat variabel kueri SQL dan mejelaskan apa yang dilakukan oleh variabel tersebut.\n",
    "query = 'SELECT * FROM your_table_name'\n",
    "\n",
    "# Mengeksekusikan kueri dan membaca data kedalam variabel dataframe (df_sql)\n",
    "df_sql = pd.read_sql(query, conn)\n",
    "\n",
    "# Memunculkan DataFrame dari kueri yang diberikan kepada SQL Server \n",
    "print(df_sql.head())"
   ]
  }
 ],
 "metadata": {
  "kernelspec": {
   "display_name": "Python 3",
   "language": "python",
   "name": "python3"
  },
  "language_info": {
   "codemirror_mode": {
    "name": "ipython",
    "version": 3
   },
   "file_extension": ".py",
   "mimetype": "text/x-python",
   "name": "python",
   "nbconvert_exporter": "python",
   "pygments_lexer": "ipython3",
   "version": "3.12.4"
  }
 },
 "nbformat": 4,
 "nbformat_minor": 2
}
