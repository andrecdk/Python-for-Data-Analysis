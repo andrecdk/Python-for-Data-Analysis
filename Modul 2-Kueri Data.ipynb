{
 "cells": [
  {
   "cell_type": "markdown",
   "metadata": {},
   "source": [
    "# **Modul 2: Kueri Data (*Data Query*)**"
   ]
  },
  {
   "cell_type": "markdown",
   "metadata": {},
   "source": [
    "## **1. Mengambil Data dengan index <code>integer</code>**"
   ]
  },
  {
   "cell_type": "markdown",
   "metadata": {},
   "source": [
    "Berikut ini merupakan tabel yang menjelaskan fungsi kueri dari data pada phyton\n",
    "<table>\n",
    "  <tr>\n",
    "    <th>Fungsi</th>\n",
    "    <th>Struktur</th>\n",
    "    <th>Kegunaan</th>\n",
    "  </tr>\n",
    "  <tr>\n",
    "    <td>iloc</td>\n",
    "    <td><code>df.iloc[row_indexes,column indexes]</code></td>\n",
    "    <td>mengambil data dengan index berupa <b>integer</b></td>\n",
    "  </tr>\n",
    "  <tr>\n",
    "    <td>loc</td>\n",
    "    <td><code>df.loc[row_indexes,column indexes]</code></td>\n",
    "    <td>mengambil data denagn index berupa <b>non-integer</b></td>\n",
    "  </tr>\n",
    "  <table>\n",
    "  \n",
    "  <code>iloc</code> sendiri merupakan singkatan dari \"integer location\""
   ]
  },
  {
   "cell_type": "markdown",
   "metadata": {},
   "source": [
    "Contoh beberapa kasus dan struktur dari fungsi <code>iloc</code> untuk mengambil data integer\n",
    "<table>\n",
    "  <tr>\n",
    "    <th>Kasus</th>\n",
    "    <th>Struktur</th>\n",
    "    <th>Contoh</th>\n",
    "  </tr>\n",
    "  <tr>\n",
    "    <td>Mengambil satu baris/kolom saja</td>\n",
    "    <td><code>df.iloc[single_row_index,single_column_index]</code></td>\n",
    "    <td><code>df.iloc[100,3]</code> -> baris ke-101, kolom ke 4</td>\n",
    "  </tr>\n",
    "  <tr>\n",
    "    <td>Mengambil beberapa baris/kolom dengan index berupa list</td>\n",
    "    <td><code>df.iloc[row_indexes_list,column_index_list]</code></td>\n",
    "    <td><code>df.iloc[[20,30,40],[4,5]]</code> -> baris ke-21, 31, 41 pada kolom 5 dan 6</td>\n",
    "  </tr>\n",
    "  <tr>\n",
    "    <td>Mengambil beberapa baris/kolom dengan index berupa range</td>\n",
    "    <td><code>df.iloc[row_indexes_range,column_index_range]</code></td>\n",
    "    <td><p><code>df.iloc[15:20,2:5]</code> -> baris ke-16 hingga 21 pada kolom 3 sampai 6 \n",
    "        </p>\n",
    "        <p><code>df.iloc[:5,3:]</code> -> tanpa angka di <b>depan</b> range artinya semua index sebelum baris ke 6, tanpa angka di <b>belakang</b> range artinya semua index pada kolom 3 dan setelahnya</p></td>\n",
    "  </tr>\n",
    "  <tr>\n",
    "    <td>Mengambil satu baris/kolom terakhir saja</td>\n",
    "    <td><code>df.iloc[-1,-1]</code></td>\n",
    "    <td>\n",
    "        <ul>\n",
    "          <li>\n",
    "           -1 dalam Python, negatif mengindikasi kepada element dari akhir list maupun array. Jadi, -1 merujuk kepada element terakhir.\n",
    "          </li>\n",
    "          <li>\n",
    "          <b>indikasi negatif -1 </b> merujuk kepada masing-masing elemen (baris atau kolom)\n",
    "          </li>\n",
    "        </ul>\n",
    "    </td>\n",
    "  </tr>\n",
    "  <tr>\n",
    "  <td>Mengambil beberapa baris/kolom terakhir</td>\n",
    "    <td><code>df.iloc[-row_index,-column_index]</code></td>\n",
    "    <td>\n",
    "      <code>df.iloc[-100,-3:]</code> -> 100 baris terakhir, 3 kolom terakhir\n",
    "    </td>\n",
    "  </tr>\n",
    "</table>\n",
    "\n",
    "Berikut ini merupakan contoh pengaplikasiannya"
   ]
  },
  {
   "cell_type": "code",
   "execution_count": null,
   "metadata": {},
   "outputs": [],
   "source": [
    "# mengambil beberapa baris tertentu dengan index berupa list\n",
    "df.iloc[[100,200,300]]\n",
    "\n",
    "# mengambil 1 (satu) baris tertentu\n",
    "df.iloc[1]\n",
    "\n",
    "# mengambil beberapa baris tertentu dengan index berupa range\n",
    "df.iloc[100:105]\n",
    "\n",
    "# mengambil semua baris dari baris tertentu ke bawahnya\n",
    "df.iloc[49000:]\n",
    "\n",
    "# mengambil semua baris di atas baris tertentu\n",
    "df.iloc[:10] # mengambil 10 baris pertama \n",
    "\n",
    "# mengambil 1 (satu) baris terakhir\n",
    "df.iloc[-1]\n",
    "\n",
    "# mengambil beberapa baris terakhir\n",
    "df.iloc[-5:]\n",
    "\n",
    "# mengambil semua baris di atas beberapa baris terakhir\n",
    "df.iloc[:-10] # mengambil 10 baris terakhir\n",
    "\n",
    "# mengambil 1 (satu) kolom tertentu\n",
    "df.iloc[:,2]\n",
    "\n",
    "# mengambil beberapa kolom tertentu dengan index berupa list\n",
    "df.iloc[:,[0,2,3,5]]\n",
    "\n",
    "# mengambil beberapa kolom tertentu dengan index berupa range\n",
    "df.iloc[:,2:5]\n",
    "\n",
    "# mengambil 1 (satu) kolom terakhir\n",
    "df.iloc[:,-1]\n",
    "\n",
    "# mengambil beberapa kolom terakhir\n",
    "df.iloc[:,-3:]\n",
    "\n"
   ]
  },
  {
   "cell_type": "markdown",
   "metadata": {},
   "source": [
    "## **2. Mengambil Data dengan Index <code>non-integer</code>**"
   ]
  },
  {
   "cell_type": "markdown",
   "metadata": {},
   "source": [
    "Mengkueri data dengan index <code>non-integer</code> yang sering digunakan.\n",
    "<table>\n",
    "  <tr>\n",
    "    <th>Kasus</th>\n",
    "    <th>Struktur</th>\n",
    "    <th>Contoh</th>\n",
    "  </tr>\n",
    "  <tr>\n",
    "    <td>Mengambil satu baris/kolom</td>\n",
    "    <td><code>df.loc[single_row_index,single_column_index]</code></td>\n",
    "    <td>df.loc[<code>'Tea','product_name'</code>] -> baris dengan index 'Tea', pada kolom 'nama_produk'</td>\n",
    "  </tr>\n",
    "  <tr>\n",
    "    <td>Mengambil beberapa baris/kolom dengan index berupa list</td>\n",
    "    <td><code>df.loc[row_indexes_list,column_indexes_list]</code></td>\n",
    "    <td> df.loc[<code>['Tea','Coffee','Cookie'],['product_name','quantity']</code>] baris dengan index 'Tea','Coffee','Cookie' pada kolom 'nama_produk' dan kolom 'quantity'</td>\n",
    "  </tr>\n",
    "  <table>\n",
    "\n",
    "  Berikut ini merupakan contoh pengaplikasiannya"
   ]
  },
  {
   "cell_type": "code",
   "execution_count": null,
   "metadata": {},
   "outputs": [],
   "source": [
    "# mengambil baris dengan index non-integer tertentu\n",
    "df_index_noninteger.loc[['493413','C493411','539991']]\n",
    "\n",
    "# mengambil 1 (satu) kolom dengan index non-integer tertentu\n",
    "df.loc[:,'product_name']\n",
    "\n",
    "# mengambil beberapa kolom dengan index non-integer tertentu\n",
    "df.loc[:,['order_id','product_code','product_name']]\n"
   ]
  },
  {
   "cell_type": "markdown",
   "metadata": {},
   "source": [
    "## **3. Mengambil Data dengan <code>Logical Expression</code>**"
   ]
  },
  {
   "cell_type": "markdown",
   "metadata": {},
   "source": [
    "### **3.1. Mengambil baris dengan kondisi tertentu berupa integer dan non-integer**"
   ]
  },
  {
   "cell_type": "markdown",
   "metadata": {},
   "source": [
    "Mengambil baris dengan kondisi tertentu berupa integer"
   ]
  },
  {
   "cell_type": "code",
   "execution_count": null,
   "metadata": {},
   "outputs": [],
   "source": [
    "# mengambil baris dengan kondisi tertentu berupa integer\n",
    "df[df['order_id']=='539991']"
   ]
  },
  {
   "cell_type": "markdown",
   "metadata": {},
   "source": [
    "Mengambil baris dengan kondisi tertentu berupa non integer"
   ]
  },
  {
   "cell_type": "code",
   "execution_count": null,
   "metadata": {},
   "outputs": [],
   "source": [
    "# mengambil baris dengan kondisi tertentu berupa non integer menggunakan logical expression\n",
    "df.loc[df['order_id']=='539991']"
   ]
  },
  {
   "cell_type": "markdown",
   "metadata": {},
   "source": [
    "Mengambil baris dengan kondisi tertentu pada baris dan kolom"
   ]
  },
  {
   "cell_type": "code",
   "execution_count": null,
   "metadata": {},
   "outputs": [],
   "source": [
    "# mengambil baris dengan kondisi tertentu pada baris dan kolom\n",
    "df.loc[df['order_id']=='539991', ['product_code','product_name','quantity']]"
   ]
  },
  {
   "cell_type": "markdown",
   "metadata": {},
   "source": [
    "### **3.2 Mengkueri tabel khusus berdasarkan kriteria tertentu dengan logical expression**"
   ]
  },
  {
   "cell_type": "markdown",
   "metadata": {},
   "source": [
    "Mengkueri tabel khusus berdasarkan kriteria tertentu dengan logical expression\n",
    "\n",
    "order_id | order_id = '539991'?\n",
    "--- | ---\n",
    "539991 | True\n",
    "10 | False\n",
    "\n",
    "Pada tabel contoh diatas yang sebenarnya terjadi adalah kita membuat 1 binary array yang berisi nilai <code>False</code> untuk semua baris, kecuali baris yang memenuhi kondisi tersebut diberi nilai <code>True</code>, kemudian menjadikannya non-integer index untuk mengkueri data"
   ]
  },
  {
   "cell_type": "code",
   "execution_count": null,
   "metadata": {},
   "outputs": [],
   "source": [
    "df['order_id']=='539991'\n",
    "\n",
    "# alternatif penulisan df['order_id']\n",
    "df.loc[df.order_id=='539991']\n",
    "\n",
    "# Mengkueri data berdasarkan kondisi string tertentu pada non integer\n",
    "df['product_name'].str.contains('TEA')\n",
    "\n",
    "# Mengkueri data berdasarkan kondisi tertentu pada integer\n",
    "df['quantity']==1"
   ]
  },
  {
   "cell_type": "markdown",
   "metadata": {},
   "source": [
    "namun penulisan <code>df.order_id</code> (menggunakan titik) tidak dapat digunakan pada kondisi nama kolom mengandung spasi seperti <code>df.order id</code>\n",
    "sehingga penulisan <code>df.['order id']</code> perlu digunakan dan sifatnya lebih general (berlaku di semua kondisi, dengan atau tanpa spasi sebagai nama/index kolom)"
   ]
  },
  {
   "cell_type": "markdown",
   "metadata": {},
   "source": [
    "### **3.3 Mengambil beberapa baris dengan kondisi tertentu menggunakan logical expression dan syntax operator \"|\" (<code>OR</code>), \"&\" (<code>AND</code>)**"
   ]
  },
  {
   "cell_type": "markdown",
   "metadata": {},
   "source": [
    "#### **3.3.1. Mengambil beberapa baris dengan kondisi tertentu menggunakan logical expression dan operator \"&\"**"
   ]
  },
  {
   "cell_type": "markdown",
   "metadata": {},
   "source": [
    "Seperti pada satu kondisi tertentu, pada dua atau lebih kondisi pun yang sebenarnya terjadi adalah kita mengkueri untuk menampilkan tabel berdasarkan binary array untuk setiap kondisi dan mengevaluasinya berdasarkan konsep kombinasi logika. \n",
    "\n",
    ">Pada operasi <code>\"&\" (\"DAN\")</code> menampilkan tabel yang memiliki nilai <code>TRUE</code> pada kombinasi dari kondisi yang diberikan pada setiap kolomnya. Kueri dibawah menampilkan hasil dataframe dari <code>dataframe product</code> yang memiliki string berupa 'TEA' <code>DAN</code> mengandung <code>dataframe kuantitas</code> yang sama dengan satu\n",
    "\n",
    "product_name | quantity | product_name mengandung 'TEA'? | quantity = 1? | true/false\n",
    "--- | --- | --- | --- | ---\n",
    "TEA | 1 | True | True | True\n",
    "TEA | 10 | True | False | False\n",
    "CAKE | 1 | False | True | False\n",
    "CAKE | 15 | False | False | False"
   ]
  },
  {
   "cell_type": "code",
   "execution_count": null,
   "metadata": {},
   "outputs": [],
   "source": [
    "# Mengambil beberapa baris dengan kondisi tertenu menggunakan \"&\"\n",
    "df[(df['product_name'].str.contains('TEA')) & (df['quantity']==1)]"
   ]
  },
  {
   "cell_type": "markdown",
   "metadata": {},
   "source": [
    "#### **3.3.2. Mengambil data berdasarkan kriteria menggunakan operasi \"OR\" (\"|\")**"
   ]
  },
  {
   "cell_type": "markdown",
   "metadata": {},
   "source": [
    "Seperti pada satu kondisi tertentu, pada dua atau lebih kondisi pun yang sebenarnya terjadi adalah kita mengkueri untuk menampilkan tabel berdasarkan binary array untuk setiap kondisi dan mengevaluasinya berdasarkan konsep kombinasi logika. \n",
    "\n",
    ">Pada operasi <code>\"|\" (atau)</code> menampilkan tabel yang memiliki nilai <code>TRUE</code> dari hasil evaluasi binary array yang diberikan pada kombinasi kolom tertentu. \n",
    "\n",
    "Kueri dibawah menampilkan hasil dataframe dari <code>dataframe product_name</code> yang memiliki string berupa 'TEA' <code>ATAU</code> mengandung <code>dataframe product_name</code> yang mengandung string berupa 'COFFEE'\n",
    "product_name | product_name mengandung 'TEA'? | product_name mengandung 'COFFEE'? | true/false\n",
    "--- | --- | --- | ---\n",
    "TEA | True | False | True\n",
    "COFFEE | False | True | True\n",
    "CAKE | False | False | False"
   ]
  },
  {
   "cell_type": "code",
   "execution_count": null,
   "metadata": {},
   "outputs": [],
   "source": [
    "# Mengkueri data berdasarkan kondisi tertentu dengan operator \"OR\" (\"|\")\n",
    "df[(df['product_name'].str.contains('TEA')) | (df['product_name'].str.contains('COFFEE'))]"
   ]
  },
  {
   "cell_type": "markdown",
   "metadata": {},
   "source": [
    "#### **3.3.3. Mengambil baris menggunakan operasi gabungan \"&\" dan \"|\"**"
   ]
  },
  {
   "cell_type": "markdown",
   "metadata": {},
   "source": [
    ">Mengombinasikan operasi gabungan <code>&</code> dan <code>|</code> evaluasi pada tabel binary array yang terjadi seperti tabel dibawah ini.\n",
    "\n",
    "product_name | quantity | product_name mengandung 'TEA'? | product_name mengandung 'COFFEE'? | quantity > 10? | true/false\n",
    "--- | --- | --- | --- | --- | ---\n",
    "TEA | 12 | True | False | True | True\n",
    "TEA | 5 | True | False | False | False\n",
    "COFFEE | 50 | False | True | True | True\n",
    "COFFEE | 7 | False | True | False | False\n",
    "CAKE | 12 | False | False | True | False\n",
    "CAKE | 6 | False | False | False | False\n",
    "\n",
    "Hasil dataframe yang muncul merupakan hasil evaluasi binary array yang memiliki nilai <code>TRUE</code> pada kondisi gabungan dari kueri operasi yang diberikan. "
   ]
  },
  {
   "cell_type": "code",
   "execution_count": null,
   "metadata": {},
   "outputs": [],
   "source": [
    "# Kueri gabungan menggunakan operasi \"|\" dan \"&\"\n",
    "df[(df['product_name'].str.contains('TEA') | df['product_name'].str.contains('COFFEE')) & (df['quantity']>10)]"
   ]
  },
  {
   "cell_type": "markdown",
   "metadata": {},
   "source": [
    "Kueri diatas dapat diartikan bahwa dataframe merupakan hasil dari <code>dataframe product_name</code> yang mengandung string berupa 'TEA' <code>atau</code> <code>dataframe product_name</code> yang mengandung string berupa 'COFFEE' <code>dan</code> yang memiliki <code>dataframe quantity</code> yang memiliki nilai lebih dari 10"
   ]
  }
 ],
 "metadata": {
  "kernelspec": {
   "display_name": "Python 3",
   "language": "python",
   "name": "python3"
  },
  "language_info": {
   "name": "python",
   "version": "3.12.4"
  }
 },
 "nbformat": 4,
 "nbformat_minor": 2
}
